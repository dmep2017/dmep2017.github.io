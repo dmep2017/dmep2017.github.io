{
 "cells": [
  {
   "cell_type": "code",
   "execution_count": 1,
   "metadata": {
    "collapsed": true
   },
   "outputs": [],
   "source": [
    "import pandas as pd\n",
    "import numpy as np\n",
    "import json"
   ]
  },
  {
   "cell_type": "code",
   "execution_count": 2,
   "metadata": {},
   "outputs": [
    {
     "name": "stdout",
     "output_type": "stream",
     "text": [
      "indicator gapminder population.csv\r\n",
      "indicator gdp_per_capita_ppp version8.csv\r\n",
      "indicator life_expectancy_at_birth.csv\r\n"
     ]
    }
   ],
   "source": [
    "!ls -1 *.csv"
   ]
  },
  {
   "cell_type": "code",
   "execution_count": null,
   "metadata": {
    "collapsed": true
   },
   "outputs": [],
   "source": []
  },
  {
   "cell_type": "code",
   "execution_count": 3,
   "metadata": {
    "collapsed": true
   },
   "outputs": [],
   "source": [
    "def read_and_dropna(filename, index_column_name):\n",
    "    df = pd.read_csv(filename)\n",
    "    df = df[df[index_column_name].apply(lambda x: not pd.isnull(x))]\n",
    "    return df.set_index(index_column_name)\n",
    "\n",
    "def fill_na_forward_or_zero(df):\n",
    "    return df.fillna(method='ffill', axis=1).fillna(0)\n",
    "\n",
    "def convert_numeric(df):\n",
    "    return df.applymap(lambda x: float(str(x).replace(',', '')))\n",
    "\n",
    "life = read_and_dropna('indicator life_expectancy_at_birth.csv', 'Life expectancy')\n",
    "gdp_pc = read_and_dropna('indicator gdp_per_capita_ppp version8.csv', 'income per person')\n",
    "population = read_and_dropna('indicator gapminder population.csv', 'Total population')\n",
    "\n",
    "life = convert_numeric(fill_na_forward_or_zero(life))\n",
    "gdp_pc = convert_numeric(fill_na_forward_or_zero(gdp_pc))\n",
    "population = convert_numeric(fill_na_forward_or_zero(population))"
   ]
  },
  {
   "cell_type": "code",
   "execution_count": 4,
   "metadata": {
    "collapsed": true
   },
   "outputs": [],
   "source": [
    "#df = pd.read_csv('indicator life_expectancy_at_birth.csv')\n",
    "#df['Life expectancy'].apply(lambda x: not pd.isnull(x))"
   ]
  },
  {
   "cell_type": "code",
   "execution_count": 5,
   "metadata": {
    "collapsed": true
   },
   "outputs": [],
   "source": [
    "#life.fillna(0)"
   ]
  },
  {
   "cell_type": "code",
   "execution_count": 6,
   "metadata": {},
   "outputs": [
    {
     "name": "stderr",
     "output_type": "stream",
     "text": [
      "/Users/hupili/Projects/DEMP2017/dmep2017.github.io/venv/lib/python3.5/site-packages/ipykernel_launcher.py:2: DeprecationWarning: \n",
      ".ix is deprecated. Please use\n",
      ".loc for label based indexing or\n",
      ".iloc for positional indexing\n",
      "\n",
      "See the documentation here:\n",
      "http://pandas.pydata.org/pandas-docs/stable/indexing.html#ix-indexer-is-deprecated\n",
      "  \n"
     ]
    },
    {
     "data": {
      "text/plain": [
       "False"
      ]
     },
     "execution_count": 6,
     "metadata": {},
     "output_type": "execute_result"
    }
   ],
   "source": [
    "len(population)\n",
    "type(life.ix[0][0])\n",
    "np.isnan(np.NAN)\n",
    "np.isnan(np.NaN)\n",
    "np.isnan(2)\n",
    "np.isnan(life.ix[0][0])\n",
    "#help(np.isnan)\n",
    "pd.isnull(3)\n",
    "pd.isnull(life.ix[0][0])"
   ]
  },
  {
   "cell_type": "code",
   "execution_count": 7,
   "metadata": {},
   "outputs": [
    {
     "data": {
      "text/html": [
       "<div>\n",
       "<style>\n",
       "    .dataframe thead tr:only-child th {\n",
       "        text-align: right;\n",
       "    }\n",
       "\n",
       "    .dataframe thead th {\n",
       "        text-align: left;\n",
       "    }\n",
       "\n",
       "    .dataframe tbody tr th {\n",
       "        vertical-align: top;\n",
       "    }\n",
       "</style>\n",
       "<table border=\"1\" class=\"dataframe\">\n",
       "  <thead>\n",
       "    <tr style=\"text-align: right;\">\n",
       "      <th></th>\n",
       "      <th>0</th>\n",
       "      <th>1</th>\n",
       "      <th>2</th>\n",
       "    </tr>\n",
       "  </thead>\n",
       "  <tbody>\n",
       "    <tr>\n",
       "      <th>0</th>\n",
       "      <td>1.0</td>\n",
       "      <td>2.0</td>\n",
       "      <td>3.0</td>\n",
       "    </tr>\n",
       "    <tr>\n",
       "      <th>1</th>\n",
       "      <td>4.0</td>\n",
       "      <td>4.0</td>\n",
       "      <td>4.0</td>\n",
       "    </tr>\n",
       "    <tr>\n",
       "      <th>2</th>\n",
       "      <td>5.0</td>\n",
       "      <td>5.0</td>\n",
       "      <td>5.0</td>\n",
       "    </tr>\n",
       "  </tbody>\n",
       "</table>\n",
       "</div>"
      ],
      "text/plain": [
       "     0    1    2\n",
       "0  1.0  2.0  3.0\n",
       "1  4.0  4.0  4.0\n",
       "2  5.0  5.0  5.0"
      ]
     },
     "execution_count": 7,
     "metadata": {},
     "output_type": "execute_result"
    }
   ],
   "source": [
    "#life.ix[['Abkhazia', 'Afghanistan']]\n",
    "df = pd.DataFrame([\n",
    "    [1, 2, 3],\n",
    "    [4, np.NaN, np.NaN],\n",
    "    [5, np.NaN, np.NaN]\n",
    "])\n",
    "df.fillna(method='ffill')\n",
    "df.fillna(method='ffill', axis=1)\n",
    "#life.columns"
   ]
  },
  {
   "cell_type": "code",
   "execution_count": 8,
   "metadata": {},
   "outputs": [
    {
     "data": {
      "text/plain": [
       "260"
      ]
     },
     "execution_count": 8,
     "metadata": {},
     "output_type": "execute_result"
    }
   ],
   "source": [
    "len(life)"
   ]
  },
  {
   "cell_type": "code",
   "execution_count": 9,
   "metadata": {},
   "outputs": [
    {
     "data": {
      "text/plain": [
       "201"
      ]
     },
     "execution_count": 9,
     "metadata": {},
     "output_type": "execute_result"
    }
   ],
   "source": [
    "# Filter out the rows with missing values\n",
    "life = life.ix[life.min(axis=1) > 0.01]\n",
    "len(life)"
   ]
  },
  {
   "cell_type": "code",
   "execution_count": 10,
   "metadata": {},
   "outputs": [
    {
     "data": {
      "text/plain": [
       "190"
      ]
     },
     "execution_count": 10,
     "metadata": {},
     "output_type": "execute_result"
    }
   ],
   "source": [
    "all_countries = set(life.index) & set(gdp_pc.index) & set(population.index)\n",
    "len(all_countries)"
   ]
  },
  {
   "cell_type": "code",
   "execution_count": 11,
   "metadata": {
    "collapsed": true
   },
   "outputs": [],
   "source": [
    "def slice_by_year(year):\n",
    "    year = str(year)\n",
    "    df = pd.concat([\n",
    "        life.ix[all_countries][year],\n",
    "        gdp_pc.ix[all_countries][year],\n",
    "        population.ix[all_countries][year],\n",
    "    ], axis=1)\n",
    "    df.columns = ['life', 'gdp_pc', 'population']\n",
    "    #return df\n",
    "    df = df.fillna(0)\n",
    "    df = df.sort_values(by='gdp_pc', ascending=False)\n",
    "    # Visualization purpose: Able to apply log scale on this attribute\n",
    "    df['population'] = df['population'] + 1 \n",
    "    return df[:20]"
   ]
  },
  {
   "cell_type": "code",
   "execution_count": 12,
   "metadata": {
    "collapsed": true
   },
   "outputs": [],
   "source": [
    "#population['1800'] + 1"
   ]
  },
  {
   "cell_type": "code",
   "execution_count": 13,
   "metadata": {
    "collapsed": true
   },
   "outputs": [],
   "source": [
    "all_years = set(life.columns) & set(gdp_pc.columns) & set(population.columns)\n",
    "all_years = sorted(all_years)\n",
    "#all_years"
   ]
  },
  {
   "cell_type": "code",
   "execution_count": 14,
   "metadata": {},
   "outputs": [
    {
     "name": "stderr",
     "output_type": "stream",
     "text": [
      "/Users/hupili/Projects/DEMP2017/dmep2017.github.io/venv/lib/python3.5/site-packages/ipykernel_launcher.py:4: DeprecationWarning: \n",
      ".ix is deprecated. Please use\n",
      ".loc for label based indexing or\n",
      ".iloc for positional indexing\n",
      "\n",
      "See the documentation here:\n",
      "http://pandas.pydata.org/pandas-docs/stable/indexing.html#ix-indexer-is-deprecated\n",
      "  after removing the cwd from sys.path.\n",
      "/Users/hupili/Projects/DEMP2017/dmep2017.github.io/venv/lib/python3.5/site-packages/ipykernel_launcher.py:5: DeprecationWarning: \n",
      ".ix is deprecated. Please use\n",
      ".loc for label based indexing or\n",
      ".iloc for positional indexing\n",
      "\n",
      "See the documentation here:\n",
      "http://pandas.pydata.org/pandas-docs/stable/indexing.html#ix-indexer-is-deprecated\n",
      "  \"\"\"\n",
      "/Users/hupili/Projects/DEMP2017/dmep2017.github.io/venv/lib/python3.5/site-packages/ipykernel_launcher.py:6: DeprecationWarning: \n",
      ".ix is deprecated. Please use\n",
      ".loc for label based indexing or\n",
      ".iloc for positional indexing\n",
      "\n",
      "See the documentation here:\n",
      "http://pandas.pydata.org/pandas-docs/stable/indexing.html#ix-indexer-is-deprecated\n",
      "  \n"
     ]
    }
   ],
   "source": [
    "all_data = [(\n",
    "    year, \n",
    "    list(slice_by_year(year).T.to_dict().items())\n",
    ") for year in all_years]"
   ]
  },
  {
   "cell_type": "code",
   "execution_count": 15,
   "metadata": {},
   "outputs": [
    {
     "data": {
      "text/plain": [
       "122218"
      ]
     },
     "execution_count": 15,
     "metadata": {},
     "output_type": "execute_result"
    }
   ],
   "source": [
    "open('all_data.js', 'w').write('allData=%s' % json.dumps(all_data))"
   ]
  },
  {
   "cell_type": "code",
   "execution_count": 16,
   "metadata": {
    "collapsed": true
   },
   "outputs": [],
   "source": [
    "def get_values(d, field):\n",
    "    values = []\n",
    "    for (y, yd) in d:\n",
    "        for (c, cd) in yd:\n",
    "            values.append(cd.get(field, None))\n",
    "    return values\n",
    "\n",
    "life_values = get_values(all_data, 'life')\n",
    "gdp_pc_values = get_values(all_data, 'gdp_pc')\n",
    "population_values = get_values(all_data, 'population')"
   ]
  },
  {
   "cell_type": "code",
   "execution_count": 17,
   "metadata": {},
   "outputs": [
    {
     "name": "stdout",
     "output_type": "stream",
     "text": [
      "\n",
      "lifeDomain = [25.4, 82.66]\n",
      "gdpDomain = [1284.40935, 119849.2934]\n",
      "populationDomain = [27351.0, 307231962.0]\n",
      "\n"
     ]
    }
   ],
   "source": [
    "boundary_variables = \"\"\"\n",
    "lifeDomain = [%s, %s]\n",
    "gdpDomain = [%s, %s]\n",
    "populationDomain = [%s, %s]\n",
    "\"\"\" % (\n",
    "    min(life_values), \n",
    "    max(life_values),\n",
    "    min(gdp_pc_values), \n",
    "    max(gdp_pc_values),\n",
    "    min(population_values),\n",
    "    max(population_values)\n",
    ")\n",
    "\n",
    "open('all_data.js', 'a').write('\\n%s' % boundary_variables)\n",
    "print(boundary_variables)"
   ]
  },
  {
   "cell_type": "code",
   "execution_count": 18,
   "metadata": {},
   "outputs": [],
   "source": [
    "#life_values"
   ]
  },
  {
   "cell_type": "code",
   "execution_count": 19,
   "metadata": {
    "collapsed": true
   },
   "outputs": [],
   "source": [
    "#population.max(axis=1)\n",
    "#len(population)\n",
    "#population"
   ]
  },
  {
   "cell_type": "code",
   "execution_count": 20,
   "metadata": {
    "collapsed": true
   },
   "outputs": [],
   "source": [
    "#gdp_pc.max()"
   ]
  },
  {
   "cell_type": "code",
   "execution_count": 21,
   "metadata": {
    "collapsed": true
   },
   "outputs": [],
   "source": [
    "#population[all_years].ix['Afghanistan']\n",
    "#population.fillna(0).applymap(lambda x: int(str(x).replace(',', ''))).max().max()"
   ]
  }
 ],
 "metadata": {
  "kernelspec": {
   "display_name": "Python 3",
   "language": "python",
   "name": "python3"
  },
  "language_info": {
   "codemirror_mode": {
    "name": "ipython",
    "version": 3
   },
   "file_extension": ".py",
   "mimetype": "text/x-python",
   "name": "python",
   "nbconvert_exporter": "python",
   "pygments_lexer": "ipython3",
   "version": "3.5.1"
  }
 },
 "nbformat": 4,
 "nbformat_minor": 2
}
